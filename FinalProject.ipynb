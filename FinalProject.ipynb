{
 "cells": [
  {
   "cell_type": "code",
   "execution_count": 56,
   "id": "23efc298",
   "metadata": {},
   "outputs": [
    {
     "name": "stdout",
     "output_type": "stream",
     "text": [
      "           Date       Open       High        Low      Close  Adj Close  Volume\n",
      "6    1993-02-08  44.968750  45.125000  44.906250  44.968750  25.423714  596100\n",
      "545  1995-03-28  50.296875  50.421875  50.234375  50.421875  30.165302  121900\n"
     ]
    }
   ],
   "source": [
    "import pandas as pd\n",
    "from math import log\n",
    "\n",
    "file_path = 'SPY.csv'\n",
    "\n",
    "df = pd.read_csv(file_path)\n",
    "                 \n",
    "filtered_df = df[(df['Close'] == df['Close'].shift(1)) & (df['Open'] == df['Open'].shift(1))]\n",
    "\n",
    "# Display the resulting DataFrame\n",
    "print(filtered_df)"
   ]
  },
  {
   "cell_type": "code",
   "execution_count": 67,
   "id": "4a4515b3",
   "metadata": {
    "scrolled": true
   },
   "outputs": [
    {
     "name": "stdout",
     "output_type": "stream",
     "text": [
      "[PearsonRResult(statistic=-0.01181793177758509, pvalue=0.6521863611384032)]\n",
      "[PearsonRResult(statistic=-0.05765411001349813, pvalue=0.12013367231091863)]\n",
      "[PearsonRResult(statistic=-0.10650206105520765, pvalue=0.018971605462566123)]\n",
      "[PearsonRResult(statistic=-0.020261954835306507, pvalue=0.7000274614320272)]\n",
      "[PearsonRResult(statistic=-0.012219023959480796, pvalue=0.8500095147371131)]\n",
      "[PearsonRResult(statistic=0.02617441996012343, pvalue=0.7546549521224382)]\n",
      "[PearsonRResult(statistic=-0.052584444787857745, pvalue=0.6608872679351414)]\n"
     ]
    }
   ],
   "source": [
    "df = df[df['Date'] >= '1995-03-28']\n",
    "df['Signal'] = ((df['Close'] > df['Close'].shift(1)) | ((df['Close'] == df['Close'].shift(1)) & (df['Open'] > df['Open'].shift(1)))).astype(int)\n",
    "\n",
    "lengths = [5, 10, 15, 20, 30, 50, 100]\n",
    "for element in lengths:\n",
    "    bucket_len = element\n",
    "\n",
    "    \n",
    "    arr = df['Signal'].values\n",
    "    arr = arr[1:-1]\n",
    "    entropy = []\n",
    "\n",
    "    for i in range(len(arr) % bucket_len):\n",
    "        arr = arr[:-1]\n",
    "\n",
    "    for j in range(int(len(arr)/bucket_len)):\n",
    "        focus = arr[:bucket_len]\n",
    "        count_0 = 0\n",
    "        count_1 = 0\n",
    "        p_0 = 0\n",
    "        p_1 = 0\n",
    "        for element in focus:\n",
    "            if element == 0:\n",
    "                count_0 = count_0 + 1\n",
    "            elif element == 1:\n",
    "                count_1 = count_1 + 1\n",
    "        p_0 = count_0/bucket_len\n",
    "        p_1 = count_1/bucket_len\n",
    "        \n",
    "        if p_0 == 0:\n",
    "            log_0 = 0 \n",
    "        else:\n",
    "            log_0 = log(p_0)\n",
    "        \n",
    "        if p_1 == 0:\n",
    "            log_1 = 0 \n",
    "        else:\n",
    "            log_1 = log(p_1)\n",
    "        entropy_value = -1*p_0*log_0 + -1*p_1*log_1\n",
    "        entropy.append(entropy_value)\n",
    "        arr = arr[bucket_len:]\n",
    "\n",
    "\n",
    "    arr = df['Volume'].values\n",
    "    arr = arr[1:-1]\n",
    "    volume = []\n",
    "\n",
    "    for i in range(len(arr) % bucket_len):\n",
    "        arr = arr[:-1]\n",
    "\n",
    "    for j in range(int(len(arr)/bucket_len)):\n",
    "        focus = arr[:bucket_len]\n",
    "        count_vol = 0 \n",
    "        for element in focus:\n",
    "            count_vol = count_vol + element\n",
    "        volume_avg = count_vol/bucket_len\n",
    "        volume.append(volume_avg)\n",
    "        arr = arr[bucket_len:]\n",
    "\n",
    "\n",
    "    import matplotlib.pyplot as plt\n",
    "    import numpy as np\n",
    "\n",
    "    #plt.scatter(entropy, volume)\n",
    "\n",
    "    # Add labels and title\n",
    "    #plt.xlabel('Entropy')\n",
    "    #plt.ylabel('Volume')\n",
    "    #plt.title('Scatter Plot')\n",
    "\n",
    "    # Show the plot\n",
    "    #plt.show()\n",
    "\n",
    "    from scipy.stats import pearsonr\n",
    "\n",
    "    num_eras = 1\n",
    "    corr = []\n",
    "\n",
    "    for i in range(len(entropy) % num_eras):\n",
    "        entropy = entropy[:-1]\n",
    "        volume = volume[:-1]\n",
    "\n",
    "    era_length = int(len(entropy)/num_eras)\n",
    "    #print(era_length)\n",
    "    for i in range(num_eras):\n",
    "        focus1 = entropy[:era_length]\n",
    "        focus2 = volume[:era_length]\n",
    "        corr.append(pearsonr(focus1, focus2))\n",
    "        entropy = entropy[era_length:]\n",
    "        volume = volume[era_length:]\n",
    "    print(corr)\n",
    "\n"
   ]
  },
  {
   "cell_type": "code",
   "execution_count": null,
   "id": "36b99ff1",
   "metadata": {},
   "outputs": [],
   "source": []
  }
 ],
 "metadata": {
  "kernelspec": {
   "display_name": "Python 3 (ipykernel)",
   "language": "python",
   "name": "python3"
  },
  "language_info": {
   "codemirror_mode": {
    "name": "ipython",
    "version": 3
   },
   "file_extension": ".py",
   "mimetype": "text/x-python",
   "name": "python",
   "nbconvert_exporter": "python",
   "pygments_lexer": "ipython3",
   "version": "3.11.5"
  }
 },
 "nbformat": 4,
 "nbformat_minor": 5
}
